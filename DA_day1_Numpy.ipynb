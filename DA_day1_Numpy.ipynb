{
  "nbformat": 4,
  "nbformat_minor": 0,
  "metadata": {
    "colab": {
      "provenance": []
    },
    "kernelspec": {
      "name": "python3",
      "display_name": "Python 3"
    },
    "language_info": {
      "name": "python"
    }
  },
  "cells": [
    {
      "cell_type": "code",
      "execution_count": null,
      "metadata": {
        "id": "gAjcNu4Xdyb4"
      },
      "outputs": [],
      "source": [
        " #importing\n",
        " import numpy as np"
      ]
    },
    {
      "cell_type": "code",
      "source": [
        "!pip install (library)"
      ],
      "metadata": {
        "colab": {
          "base_uri": "https://localhost:8080/"
        },
        "id": "Rebqj5HggS6Z",
        "outputId": "199d9a01-75e1-425b-cc67-1937a5467ca1"
      },
      "execution_count": null,
      "outputs": [
        {
          "output_type": "stream",
          "name": "stdout",
          "text": [
            "/bin/bash: -c: line 1: syntax error near unexpected token `('\n",
            "/bin/bash: -c: line 1: `pip install (library)'\n"
          ]
        }
      ]
    },
    {
      "cell_type": "markdown",
      "source": [
        "Arrays"
      ],
      "metadata": {
        "id": "d8BhC-TUgiRd"
      }
    },
    {
      "cell_type": "code",
      "source": [
        "#creating 1D array\n",
        "A = np.array([2,3,4,5])\n",
        "print(type(A))"
      ],
      "metadata": {
        "colab": {
          "base_uri": "https://localhost:8080/"
        },
        "id": "Fq6VXRo3gjwH",
        "outputId": "d2088cdf-ae6a-48e0-a727-3b36c88b8694"
      },
      "execution_count": null,
      "outputs": [
        {
          "output_type": "stream",
          "name": "stdout",
          "text": [
            "<class 'numpy.ndarray'>\n"
          ]
        }
      ]
    },
    {
      "cell_type": "code",
      "source": [
        "#creating a 2D array #rows and columns\n",
        "B = np.array([[2,3,4],[7,8,9]])\n",
        "print(B)"
      ],
      "metadata": {
        "colab": {
          "base_uri": "https://localhost:8080/"
        },
        "id": "wiUZv4GsgzYQ",
        "outputId": "3f8ca9f6-fd86-449a-b3f4-17f90df607e7"
      },
      "execution_count": null,
      "outputs": [
        {
          "output_type": "stream",
          "name": "stdout",
          "text": [
            "[[2 3 4]\n",
            " [7 8 9]]\n"
          ]
        }
      ]
    },
    {
      "cell_type": "code",
      "source": [
        "#creating a 3D array - rows,columns,gropus\n",
        "C = np.array([[[1,2,3],[4,5,6]],[[7,8,9,],[1,2,3]]])\n",
        "print(C)"
      ],
      "metadata": {
        "colab": {
          "base_uri": "https://localhost:8080/"
        },
        "id": "PYDnZuK7hcJt",
        "outputId": "42b31611-4be5-4e59-b7a5-01dabc1cfa4b"
      },
      "execution_count": null,
      "outputs": [
        {
          "output_type": "stream",
          "name": "stdout",
          "text": [
            "[[[1 2 3]\n",
            "  [4 5 6]]\n",
            "\n",
            " [[7 8 9]\n",
            "  [1 2 3]]]\n"
          ]
        }
      ]
    },
    {
      "cell_type": "code",
      "source": [
        "#checking dimensions\n",
        "print(A.ndim)\n",
        "print(B.ndim)\n",
        "print(C.ndim)"
      ],
      "metadata": {
        "colab": {
          "base_uri": "https://localhost:8080/"
        },
        "id": "TOdPWGxujLPi",
        "outputId": "0102a7cf-eb64-40b5-8da0-b5dd562153ba"
      },
      "execution_count": null,
      "outputs": [
        {
          "output_type": "stream",
          "name": "stdout",
          "text": [
            "1\n",
            "2\n",
            "3\n"
          ]
        }
      ]
    },
    {
      "cell_type": "code",
      "source": [
        "D = np.ones((3,5))\n",
        "print(D)"
      ],
      "metadata": {
        "colab": {
          "base_uri": "https://localhost:8080/"
        },
        "id": "NYSYfbrKjee9",
        "outputId": "1f5eb1a1-3a86-4d7c-da45-16a15663ebe8"
      },
      "execution_count": null,
      "outputs": [
        {
          "output_type": "stream",
          "name": "stdout",
          "text": [
            "[[1. 1.]\n",
            " [1. 1.]\n",
            " [1. 1.]\n",
            " [1. 1.]\n",
            " [1. 1.]\n",
            " [1. 1.]\n",
            " [1. 1.]]\n"
          ]
        }
      ]
    },
    {
      "cell_type": "code",
      "source": [
        "#ones\n",
        "D = np.ones((2,3,3,)) #groups,rows,colums,3D\n",
        "print(D)"
      ],
      "metadata": {
        "colab": {
          "base_uri": "https://localhost:8080/"
        },
        "id": "h0G-1C4imhEE",
        "outputId": "043720e1-1a4a-4d53-83c7-8b5f5c27e260"
      },
      "execution_count": null,
      "outputs": [
        {
          "output_type": "stream",
          "name": "stdout",
          "text": [
            "[[[1. 1. 1.]\n",
            "  [1. 1. 1.]\n",
            "  [1. 1. 1.]]\n",
            "\n",
            " [[1. 1. 1.]\n",
            "  [1. 1. 1.]\n",
            "  [1. 1. 1.]]]\n"
          ]
        }
      ]
    },
    {
      "cell_type": "code",
      "source": [
        "#ones\n",
        "E = np.ones((3,2)) #rows,columns,2D\n",
        "print(E)"
      ],
      "metadata": {
        "colab": {
          "base_uri": "https://localhost:8080/"
        },
        "id": "AXbiIPWxmz_k",
        "outputId": "a434ef8d-a19d-4598-ebaa-4d3c6e2aff05"
      },
      "execution_count": null,
      "outputs": [
        {
          "output_type": "stream",
          "name": "stdout",
          "text": [
            "[[1. 1.]\n",
            " [1. 1.]\n",
            " [1. 1.]]\n"
          ]
        }
      ]
    },
    {
      "cell_type": "code",
      "source": [
        "#zeros\n",
        "F = np.zeros((3,2)) #2D\n",
        "print(F)"
      ],
      "metadata": {
        "colab": {
          "base_uri": "https://localhost:8080/"
        },
        "id": "7Z1LRQ8omFPn",
        "outputId": "93738dfa-b267-4add-fba2-5ee1ed1a8585"
      },
      "execution_count": null,
      "outputs": [
        {
          "output_type": "stream",
          "name": "stdout",
          "text": [
            "[[0. 0.]\n",
            " [0. 0.]\n",
            " [0. 0.]]\n"
          ]
        }
      ]
    },
    {
      "cell_type": "code",
      "source": [
        "J = np.eye(4,3)\n",
        "print(J)"
      ],
      "metadata": {
        "colab": {
          "base_uri": "https://localhost:8080/"
        },
        "id": "lyVoIZUgmKX5",
        "outputId": "846a9a92-eba8-4ca2-ea9f-0782fae757a7"
      },
      "execution_count": null,
      "outputs": [
        {
          "output_type": "stream",
          "name": "stdout",
          "text": [
            "[[1. 0. 0.]\n",
            " [0. 1. 0.]\n",
            " [0. 0. 1.]\n",
            " [0. 0. 0.]]\n"
          ]
        }
      ]
    },
    {
      "cell_type": "code",
      "source": [
        "#arange\n",
        "H = np.arange(3,31,3).reshape(5,2)\n",
        "print(H)"
      ],
      "metadata": {
        "colab": {
          "base_uri": "https://localhost:8080/"
        },
        "id": "imeha9I1oPsf",
        "outputId": "91fe1f5b-a7ef-4da0-a49f-2172c6e85df8"
      },
      "execution_count": null,
      "outputs": [
        {
          "output_type": "stream",
          "name": "stdout",
          "text": [
            "[[ 3  6]\n",
            " [ 9 12]\n",
            " [15 18]\n",
            " [21 24]\n",
            " [27 30]]\n"
          ]
        }
      ]
    },
    {
      "cell_type": "code",
      "source": [
        "V = np.linspace(12,24,10)\n",
        "print(V)"
      ],
      "metadata": {
        "colab": {
          "base_uri": "https://localhost:8080/"
        },
        "id": "TluBeL-1qDm4",
        "outputId": "c59cc603-2f20-4059-d377-38606a3e0a5c"
      },
      "execution_count": null,
      "outputs": [
        {
          "output_type": "stream",
          "name": "stdout",
          "text": [
            "[12.         13.33333333 14.66666667 16.         17.33333333 18.66666667\n",
            " 20.         21.33333333 22.66666667 24.        ]\n"
          ]
        }
      ]
    },
    {
      "cell_type": "code",
      "source": [
        "L = np.arange(1,7).reshape(2,3)\n",
        "print(L)\n",
        "R = np.arange(9,15).reshape(2,3)\n",
        "print(R)"
      ],
      "metadata": {
        "colab": {
          "base_uri": "https://localhost:8080/"
        },
        "id": "F3oS4dtErgTw",
        "outputId": "09946c4d-1539-40b5-f19b-f2ab99d564f3"
      },
      "execution_count": null,
      "outputs": [
        {
          "output_type": "stream",
          "name": "stdout",
          "text": [
            "[[1 2 3]\n",
            " [4 5 6]]\n",
            "[[ 9 10 11]\n",
            " [12 13 14]]\n"
          ]
        }
      ]
    },
    {
      "cell_type": "code",
      "source": [
        "print(L+R)\n"
      ],
      "metadata": {
        "colab": {
          "base_uri": "https://localhost:8080/"
        },
        "id": "PSTX6NHTr6Lt",
        "outputId": "01bfd3fa-a5b3-41ac-9c6e-0d7e579a584a"
      },
      "execution_count": null,
      "outputs": [
        {
          "output_type": "stream",
          "name": "stdout",
          "text": [
            "[[10 12 14]\n",
            " [16 18 20]]\n"
          ]
        }
      ]
    },
    {
      "cell_type": "code",
      "source": [
        "G = np.sum((L,R))\n",
        "print(G)"
      ],
      "metadata": {
        "colab": {
          "base_uri": "https://localhost:8080/"
        },
        "id": "5wJGaYBgsCSN",
        "outputId": "636270e9-e5b0-47ae-88f8-ddc8a2fd882c"
      },
      "execution_count": null,
      "outputs": [
        {
          "output_type": "stream",
          "name": "stdout",
          "text": [
            "90\n"
          ]
        }
      ]
    },
    {
      "cell_type": "code",
      "source": [
        "G = np.sum((L,R),axis=0)\n",
        "print(G)"
      ],
      "metadata": {
        "colab": {
          "base_uri": "https://localhost:8080/"
        },
        "id": "D2_0GT9tuLR6",
        "outputId": "b8349c6a-cca1-4dd4-8153-76f3ad57806a"
      },
      "execution_count": null,
      "outputs": [
        {
          "output_type": "stream",
          "name": "stdout",
          "text": [
            "[[10 12 14]\n",
            " [16 18 20]]\n"
          ]
        }
      ]
    },
    {
      "cell_type": "code",
      "source": [
        "G = np.sum((L,R),axis = 1)\n",
        "print(G)"
      ],
      "metadata": {
        "colab": {
          "base_uri": "https://localhost:8080/"
        },
        "id": "lcAZ7FJmu2NN",
        "outputId": "29b100de-8291-4fe9-81bb-11a571b3d8a8"
      },
      "execution_count": null,
      "outputs": [
        {
          "output_type": "stream",
          "name": "stdout",
          "text": [
            "[[ 5  7  9]\n",
            " [21 23 25]]\n"
          ]
        }
      ]
    },
    {
      "cell_type": "code",
      "source": [
        "h = np.ones((4,2))\n",
        "g = np.ones((4,2))\n",
        "print(np.sum((h,g),axis=0))"
      ],
      "metadata": {
        "colab": {
          "base_uri": "https://localhost:8080/"
        },
        "id": "KOKa9zR3u_zN",
        "outputId": "262c2de7-86b3-4fc7-bded-1ba36d5f9dea"
      },
      "execution_count": null,
      "outputs": [
        {
          "output_type": "stream",
          "name": "stdout",
          "text": [
            "[[2. 2.]\n",
            " [2. 2.]\n",
            " [2. 2.]\n",
            " [2. 2.]]\n"
          ]
        }
      ]
    },
    {
      "cell_type": "code",
      "source": [
        "h = np.ones((4,2))\n",
        "g = np.ones((4,2))\n",
        "print(np.sum((h,g),axis=1))"
      ],
      "metadata": {
        "colab": {
          "base_uri": "https://localhost:8080/"
        },
        "id": "IxuWwicjxKLI",
        "outputId": "b4ffdcd2-8186-4b7c-ccbd-b8b00c7981ac"
      },
      "execution_count": null,
      "outputs": [
        {
          "output_type": "stream",
          "name": "stdout",
          "text": [
            "[[4. 4.]\n",
            " [4. 4.]]\n"
          ]
        }
      ]
    },
    {
      "cell_type": "code",
      "source": [
        "A = np.array([[1,1],[0,1]])\n",
        "B = np.array([[2,0],[3,4]])\n",
        "print(A*B)"
      ],
      "metadata": {
        "colab": {
          "base_uri": "https://localhost:8080/"
        },
        "id": "b_dYCM16xiEB",
        "outputId": "ce723bf1-a2ff-4ef8-8972-b989addc4302"
      },
      "execution_count": null,
      "outputs": [
        {
          "output_type": "stream",
          "name": "stdout",
          "text": [
            "[[2 0]\n",
            " [0 4]]\n"
          ]
        }
      ]
    },
    {
      "cell_type": "code",
      "source": [
        "print(A@B)"
      ],
      "metadata": {
        "colab": {
          "base_uri": "https://localhost:8080/"
        },
        "id": "-x6TPokmx5m6",
        "outputId": "14f3ee79-04d3-421a-fae9-b5f8a45ca396"
      },
      "execution_count": null,
      "outputs": [
        {
          "output_type": "stream",
          "name": "stdout",
          "text": [
            "[[5 4]\n",
            " [3 4]]\n"
          ]
        }
      ]
    },
    {
      "cell_type": "markdown",
      "source": [
        "b = np.array[25,289,361,81] #find square roots and iterate through result values output:2 square is 25... use np.sqrt"
      ],
      "metadata": {
        "id": "zPJd6F3yzKUK"
      }
    },
    {
      "cell_type": "code",
      "source": [
        "b =np.array([25,361,289,81])\n",
        "for i in b:\n",
        "  print(np.sqrt(i),\"sqrt is\",i)"
      ],
      "metadata": {
        "colab": {
          "base_uri": "https://localhost:8080/"
        },
        "id": "otkx3ipLzeyJ",
        "outputId": "cc84823f-5a3e-4e27-e842-61375eaf8d17"
      },
      "execution_count": null,
      "outputs": [
        {
          "output_type": "stream",
          "name": "stdout",
          "text": [
            "5.0 sqrt is 25\n",
            "19.0 sqrt is 361\n",
            "17.0 sqrt is 289\n",
            "9.0 sqrt is 81\n"
          ]
        }
      ]
    },
    {
      "cell_type": "markdown",
      "source": [
        "array_joins"
      ],
      "metadata": {
        "id": "ZzUZV0RD7Y3z"
      }
    },
    {
      "cell_type": "code",
      "source": [
        "a = np.array([34,35,36,37,38,39])\n",
        "a.resize(2,3)\n",
        "b = np.array([4,5,6,7,8,9])\n",
        "b.resize(2,3)\n",
        "print(np.vstack((a,b)))\n",
        "print(\"\\n\")\n",
        "print(np.hstack((a,b)))"
      ],
      "metadata": {
        "colab": {
          "base_uri": "https://localhost:8080/"
        },
        "id": "3W2ss45C51_8",
        "outputId": "15d43699-95f8-4a91-9c0f-afc3e4cff402"
      },
      "execution_count": null,
      "outputs": [
        {
          "output_type": "stream",
          "name": "stdout",
          "text": [
            "[[34 35 36]\n",
            " [37 38 39]\n",
            " [ 4  5  6]\n",
            " [ 7  8  9]]\n",
            "\n",
            "\n",
            "[[34 35 36  4  5  6]\n",
            " [37 38 39  7  8  9]]\n"
          ]
        }
      ]
    },
    {
      "cell_type": "code",
      "source": [
        "a = np.arange(30).reshape(2,3,5)\n",
        "print(a)\n",
        "print(\"output of dstack\")\n",
        "print(np.dstack(a))\n",
        "#number of rows becomesnumber of groups\n",
        "#columns become rows\n",
        "#group becomes columns"
      ],
      "metadata": {
        "colab": {
          "base_uri": "https://localhost:8080/"
        },
        "id": "RPqfvGnh8pew",
        "outputId": "362926b7-804a-4921-b9e0-c92ad5703466"
      },
      "execution_count": null,
      "outputs": [
        {
          "output_type": "stream",
          "name": "stdout",
          "text": [
            "[[[ 0  1  2  3  4]\n",
            "  [ 5  6  7  8  9]\n",
            "  [10 11 12 13 14]]\n",
            "\n",
            " [[15 16 17 18 19]\n",
            "  [20 21 22 23 24]\n",
            "  [25 26 27 28 29]]]\n",
            "output of dstack\n",
            "[[[ 0 15]\n",
            "  [ 1 16]\n",
            "  [ 2 17]\n",
            "  [ 3 18]\n",
            "  [ 4 19]]\n",
            "\n",
            " [[ 5 20]\n",
            "  [ 6 21]\n",
            "  [ 7 22]\n",
            "  [ 8 23]\n",
            "  [ 9 24]]\n",
            "\n",
            " [[10 25]\n",
            "  [11 26]\n",
            "  [12 27]\n",
            "  [13 28]\n",
            "  [14 29]]]\n"
          ]
        }
      ]
    }
  ]
}