{
  "nbformat": 4,
  "nbformat_minor": 0,
  "metadata": {
    "colab": {
      "provenance": []
    },
    "kernelspec": {
      "name": "python3",
      "display_name": "Python 3"
    },
    "language_info": {
      "name": "python"
    }
  },
  "cells": [
    {
      "cell_type": "code",
      "source": [
        "import numpy as np\n",
        "#RANDOM MODULE IS SUB-PACKAGE OF NUMPY"
      ],
      "metadata": {
        "id": "KSfLciwrtfPo"
      },
      "execution_count": 1,
      "outputs": []
    },
    {
      "cell_type": "code",
      "source": [
        "A = np.random.rand(1)\n",
        "print(A)\n"
      ],
      "metadata": {
        "colab": {
          "base_uri": "https://localhost:8080/"
        },
        "id": "flcbOJhisxmU",
        "outputId": "e910d8f0-ed34-4ae2-c7e5-b6aaf550517e"
      },
      "execution_count": 2,
      "outputs": [
        {
          "output_type": "stream",
          "name": "stdout",
          "text": [
            "[0.729708]\n"
          ]
        }
      ]
    },
    {
      "cell_type": "code",
      "source": [
        "A = np.random.rand(8,4) #rand-rang is  between 0 and 1\n",
        "print(A)"
      ],
      "metadata": {
        "colab": {
          "base_uri": "https://localhost:8080/"
        },
        "id": "Ng0MKGr0tNbF",
        "outputId": "8de98934-920b-499b-a18b-6944d496826e"
      },
      "execution_count": 3,
      "outputs": [
        {
          "output_type": "stream",
          "name": "stdout",
          "text": [
            "[[0.38315778 0.81905066 0.45479437 0.87924144]\n",
            " [0.83447402 0.11355606 0.24094638 0.72582544]\n",
            " [0.41870981 0.19754043 0.52074526 0.79898356]\n",
            " [0.81362647 0.55279386 0.21231923 0.29356624]\n",
            " [0.10611795 0.87420055 0.956617   0.88314775]\n",
            " [0.57945353 0.90224413 0.26266913 0.49437277]\n",
            " [0.49981806 0.3211994  0.7707084  0.36287041]\n",
            " [0.01672133 0.17953419 0.74702733 0.4298443 ]]\n"
          ]
        }
      ]
    },
    {
      "cell_type": "code",
      "source": [
        "A = 10*np.random.rand(8,4) #rand range is between 0 and 1\n",
        "print(A)\n"
      ],
      "metadata": {
        "colab": {
          "base_uri": "https://localhost:8080/"
        },
        "id": "C_rmj8DHuzGJ",
        "outputId": "9cedd960-b583-40c5-ddc0-196ed3e4c3a8"
      },
      "execution_count": 4,
      "outputs": [
        {
          "output_type": "stream",
          "name": "stdout",
          "text": [
            "[[1.62261279 0.8218882  9.29132018 0.20942133]\n",
            " [8.89000766 0.61881948 0.47112421 3.1954284 ]\n",
            " [5.7745116  7.98448904 3.90155826 8.42544355]\n",
            " [2.01685866 6.30791959 4.28562322 5.22432085]\n",
            " [4.06199664 1.21635883 2.09548229 0.53290271]\n",
            " [7.25383761 1.47127667 7.34514291 6.15956982]\n",
            " [5.56847693 5.94147841 0.68788034 8.8945425 ]\n",
            " [5.08817579 9.4142525  8.96497475 0.87631205]]\n"
          ]
        }
      ]
    },
    {
      "cell_type": "code",
      "source": [
        "A = np.floor(10*np.random.rand(8,4))\n",
        "print(A)"
      ],
      "metadata": {
        "colab": {
          "base_uri": "https://localhost:8080/"
        },
        "id": "P16HkFXHvkCL",
        "outputId": "65c80f50-8cd4-4f53-ce77-06258ed1a344"
      },
      "execution_count": 5,
      "outputs": [
        {
          "output_type": "stream",
          "name": "stdout",
          "text": [
            "[[2. 0. 9. 0.]\n",
            " [1. 4. 2. 6.]\n",
            " [8. 5. 1. 3.]\n",
            " [5. 8. 9. 6.]\n",
            " [4. 2. 9. 3.]\n",
            " [8. 4. 6. 3.]\n",
            " [9. 1. 5. 6.]\n",
            " [5. 9. 7. 4.]]\n"
          ]
        }
      ]
    },
    {
      "cell_type": "code",
      "source": [
        "A = np.arange(1,33).reshape(8,4)\n",
        "print(A)"
      ],
      "metadata": {
        "colab": {
          "base_uri": "https://localhost:8080/"
        },
        "id": "3GPAtB9KvqCY",
        "outputId": "18dfea79-a303-4d39-e97b-217e0abc58d5"
      },
      "execution_count": 6,
      "outputs": [
        {
          "output_type": "stream",
          "name": "stdout",
          "text": [
            "[[ 1  2  3  4]\n",
            " [ 5  6  7  8]\n",
            " [ 9 10 11 12]\n",
            " [13 14 15 16]\n",
            " [17 18 19 20]\n",
            " [21 22 23 24]\n",
            " [25 26 27 28]\n",
            " [29 30 31 32]]\n"
          ]
        }
      ]
    },
    {
      "cell_type": "code",
      "source": [
        "np.vsplit(A,4) #vsplit split the array from top to bottom"
      ],
      "metadata": {
        "colab": {
          "base_uri": "https://localhost:8080/"
        },
        "id": "Oh4KdrjOwbuh",
        "outputId": "e2d2a2f2-2fda-4bd2-c312-0ae66a2f8840"
      },
      "execution_count": 7,
      "outputs": [
        {
          "output_type": "execute_result",
          "data": {
            "text/plain": [
              "[array([[1, 2, 3, 4],\n",
              "        [5, 6, 7, 8]]),\n",
              " array([[ 9, 10, 11, 12],\n",
              "        [13, 14, 15, 16]]),\n",
              " array([[17, 18, 19, 20],\n",
              "        [21, 22, 23, 24]]),\n",
              " array([[25, 26, 27, 28],\n",
              "        [29, 30, 31, 32]])]"
            ]
          },
          "metadata": {},
          "execution_count": 7
        }
      ]
    },
    {
      "cell_type": "code",
      "source": [
        "np.vsplit(A,(3,5)) #split it after third-row and fifth-row"
      ],
      "metadata": {
        "colab": {
          "base_uri": "https://localhost:8080/"
        },
        "id": "f0EkhyEhw7VN",
        "outputId": "07351d59-0a77-43fe-f4e4-712ec2a4b45d"
      },
      "execution_count": 8,
      "outputs": [
        {
          "output_type": "execute_result",
          "data": {
            "text/plain": [
              "[array([[ 1,  2,  3,  4],\n",
              "        [ 5,  6,  7,  8],\n",
              "        [ 9, 10, 11, 12]]),\n",
              " array([[13, 14, 15, 16],\n",
              "        [17, 18, 19, 20]]),\n",
              " array([[21, 22, 23, 24],\n",
              "        [25, 26, 27, 28],\n",
              "        [29, 30, 31, 32]])]"
            ]
          },
          "metadata": {},
          "execution_count": 8
        }
      ]
    },
    {
      "cell_type": "code",
      "source": [
        "a = np.arange(1,33).reshape(4,8)\n",
        "print(a)"
      ],
      "metadata": {
        "colab": {
          "base_uri": "https://localhost:8080/"
        },
        "id": "kTk3ata10BwL",
        "outputId": "780fbe80-a19e-4979-8538-9dd10eb4c630"
      },
      "execution_count": 9,
      "outputs": [
        {
          "output_type": "stream",
          "name": "stdout",
          "text": [
            "[[ 1  2  3  4  5  6  7  8]\n",
            " [ 9 10 11 12 13 14 15 16]\n",
            " [17 18 19 20 21 22 23 24]\n",
            " [25 26 27 28 29 30 31 32]]\n"
          ]
        }
      ]
    },
    {
      "cell_type": "code",
      "source": [
        "#Create an array with 4rows and 8columns\n",
        "np.hsplit(a,4) #spliting takes from left to right"
      ],
      "metadata": {
        "colab": {
          "base_uri": "https://localhost:8080/"
        },
        "id": "fyQDZnwwzjTv",
        "outputId": "4cd8942f-ae97-4f87-db10-b769c9619602"
      },
      "execution_count": 10,
      "outputs": [
        {
          "output_type": "execute_result",
          "data": {
            "text/plain": [
              "[array([[ 1,  2],\n",
              "        [ 9, 10],\n",
              "        [17, 18],\n",
              "        [25, 26]]),\n",
              " array([[ 3,  4],\n",
              "        [11, 12],\n",
              "        [19, 20],\n",
              "        [27, 28]]),\n",
              " array([[ 5,  6],\n",
              "        [13, 14],\n",
              "        [21, 22],\n",
              "        [29, 30]]),\n",
              " array([[ 7,  8],\n",
              "        [15, 16],\n",
              "        [23, 24],\n",
              "        [31, 32]])]"
            ]
          },
          "metadata": {},
          "execution_count": 10
        }
      ]
    },
    {
      "cell_type": "code",
      "source": [
        "np.hsplit(a,(3,7)) #spliting takes after 3rd column and 7th column"
      ],
      "metadata": {
        "colab": {
          "base_uri": "https://localhost:8080/"
        },
        "id": "1TmMoNgpy5LU",
        "outputId": "b6796e82-dedb-4469-cc35-ad04f5ab0ffc"
      },
      "execution_count": 11,
      "outputs": [
        {
          "output_type": "execute_result",
          "data": {
            "text/plain": [
              "[array([[ 1,  2,  3],\n",
              "        [ 9, 10, 11],\n",
              "        [17, 18, 19],\n",
              "        [25, 26, 27]]),\n",
              " array([[ 4,  5,  6,  7],\n",
              "        [12, 13, 14, 15],\n",
              "        [20, 21, 22, 23],\n",
              "        [28, 29, 30, 31]]),\n",
              " array([[ 8],\n",
              "        [16],\n",
              "        [24],\n",
              "        [32]])]"
            ]
          },
          "metadata": {},
          "execution_count": 11
        }
      ]
    },
    {
      "cell_type": "code",
      "source": [
        "np.hsplit(a,(2,5))"
      ],
      "metadata": {
        "colab": {
          "base_uri": "https://localhost:8080/"
        },
        "id": "DVUL0FJDy6NL",
        "outputId": "9e9f6da0-3912-44b5-9ad2-30a41aaf1f3b"
      },
      "execution_count": 12,
      "outputs": [
        {
          "output_type": "execute_result",
          "data": {
            "text/plain": [
              "[array([[ 1,  2],\n",
              "        [ 9, 10],\n",
              "        [17, 18],\n",
              "        [25, 26]]),\n",
              " array([[ 3,  4,  5],\n",
              "        [11, 12, 13],\n",
              "        [19, 20, 21],\n",
              "        [27, 28, 29]]),\n",
              " array([[ 6,  7,  8],\n",
              "        [14, 15, 16],\n",
              "        [22, 23, 24],\n",
              "        [30, 31, 32]])]"
            ]
          },
          "metadata": {},
          "execution_count": 12
        }
      ]
    },
    {
      "cell_type": "markdown",
      "source": [
        "Trignometry"
      ],
      "metadata": {
        "id": "Y0r8NjrC3eIB"
      }
    },
    {
      "cell_type": "code",
      "source": [
        "np.pi"
      ],
      "metadata": {
        "colab": {
          "base_uri": "https://localhost:8080/"
        },
        "id": "n7vGXXlfy6uG",
        "outputId": "d4a6f2e5-15a3-4202-a8a5-871fb48554c7"
      },
      "execution_count": 13,
      "outputs": [
        {
          "output_type": "execute_result",
          "data": {
            "text/plain": [
              "3.141592653589793"
            ]
          },
          "metadata": {},
          "execution_count": 13
        }
      ]
    },
    {
      "cell_type": "code",
      "source": [
        "A= [np.pi/4,np.pi/3,np.pi/2,np.pi]\n",
        "print(A)"
      ],
      "metadata": {
        "colab": {
          "base_uri": "https://localhost:8080/"
        },
        "id": "FFNfs7Td3id5",
        "outputId": "1726dded-6c87-43ea-f491-bc65f2ed2770"
      },
      "execution_count": 14,
      "outputs": [
        {
          "output_type": "stream",
          "name": "stdout",
          "text": [
            "[0.7853981633974483, 1.0471975511965976, 1.5707963267948966, 3.141592653589793]\n"
          ]
        }
      ]
    },
    {
      "cell_type": "code",
      "source": [
        "B=np.rad2deg(A) #convert radians to degrees"
      ],
      "metadata": {
        "id": "VqRdQE5X4Kyz"
      },
      "execution_count": 15,
      "outputs": []
    },
    {
      "cell_type": "code",
      "source": [
        "np.deg2rad(B)"
      ],
      "metadata": {
        "colab": {
          "base_uri": "https://localhost:8080/"
        },
        "id": "xc0BBPsW4Lpl",
        "outputId": "a9392ce8-96c0-4677-c199-d065b4288ea2"
      },
      "execution_count": 16,
      "outputs": [
        {
          "output_type": "execute_result",
          "data": {
            "text/plain": [
              "array([0.78539816, 1.04719755, 1.57079633, 3.14159265])"
            ]
          },
          "metadata": {},
          "execution_count": 16
        }
      ]
    },
    {
      "cell_type": "code",
      "source": [
        "np.sin(1)"
      ],
      "metadata": {
        "colab": {
          "base_uri": "https://localhost:8080/"
        },
        "id": "SOquI-N75iOL",
        "outputId": "6ad8affd-52f3-469a-cdec-b5f5573ffdd3"
      },
      "execution_count": 17,
      "outputs": [
        {
          "output_type": "execute_result",
          "data": {
            "text/plain": [
              "0.8414709848078965"
            ]
          },
          "metadata": {},
          "execution_count": 17
        }
      ]
    },
    {
      "cell_type": "code",
      "source": [
        "np.cos(1)"
      ],
      "metadata": {
        "colab": {
          "base_uri": "https://localhost:8080/"
        },
        "id": "ZxC2rqNY5iZs",
        "outputId": "3aee0ec5-21ec-4589-9c05-6f012732ae6c"
      },
      "execution_count": 18,
      "outputs": [
        {
          "output_type": "execute_result",
          "data": {
            "text/plain": [
              "0.5403023058681398"
            ]
          },
          "metadata": {},
          "execution_count": 18
        }
      ]
    },
    {
      "cell_type": "code",
      "source": [
        "np.tan(1)"
      ],
      "metadata": {
        "colab": {
          "base_uri": "https://localhost:8080/"
        },
        "id": "XwUqAbAX5idT",
        "outputId": "0f927a01-5668-454f-f625-2e7b719a7ab0"
      },
      "execution_count": 19,
      "outputs": [
        {
          "output_type": "execute_result",
          "data": {
            "text/plain": [
              "1.5574077246549023"
            ]
          },
          "metadata": {},
          "execution_count": 19
        }
      ]
    },
    {
      "cell_type": "markdown",
      "source": [
        "Statistics"
      ],
      "metadata": {
        "id": "qDlg9aqi6jlB"
      }
    },
    {
      "cell_type": "code",
      "source": [
        "st=np.array([23,45,67,89,21,34])"
      ],
      "metadata": {
        "id": "5OWCXcg76m0j"
      },
      "execution_count": 20,
      "outputs": []
    },
    {
      "cell_type": "code",
      "source": [
        "np.mean(st)"
      ],
      "metadata": {
        "colab": {
          "base_uri": "https://localhost:8080/"
        },
        "id": "K0Q0ZZxr6uJS",
        "outputId": "d81f822b-74ba-4926-dd98-0e14fa816367"
      },
      "execution_count": 21,
      "outputs": [
        {
          "output_type": "execute_result",
          "data": {
            "text/plain": [
              "46.5"
            ]
          },
          "metadata": {},
          "execution_count": 21
        }
      ]
    },
    {
      "cell_type": "code",
      "source": [
        "np.median(st)"
      ],
      "metadata": {
        "colab": {
          "base_uri": "https://localhost:8080/"
        },
        "id": "VAG2WjMj6uMK",
        "outputId": "58cb633b-a13c-4e4d-d9b6-76f5c5d5aa1b"
      },
      "execution_count": 22,
      "outputs": [
        {
          "output_type": "execute_result",
          "data": {
            "text/plain": [
              "39.5"
            ]
          },
          "metadata": {},
          "execution_count": 22
        }
      ]
    },
    {
      "cell_type": "code",
      "source": [
        "np.std(st) #standard deviation"
      ],
      "metadata": {
        "colab": {
          "base_uri": "https://localhost:8080/"
        },
        "id": "BLYA8A3o6uPo",
        "outputId": "235b4011-7188-41b7-f0cf-e82963c59865"
      },
      "execution_count": 23,
      "outputs": [
        {
          "output_type": "execute_result",
          "data": {
            "text/plain": [
              "24.452334585202017"
            ]
          },
          "metadata": {},
          "execution_count": 23
        }
      ]
    },
    {
      "cell_type": "code",
      "source": [
        "np.var(st)"
      ],
      "metadata": {
        "colab": {
          "base_uri": "https://localhost:8080/"
        },
        "id": "Wvg1IcTX8ng_",
        "outputId": "4eddab0c-55f3-4ee4-873c-0033454ecb70"
      },
      "execution_count": 24,
      "outputs": [
        {
          "output_type": "execute_result",
          "data": {
            "text/plain": [
              "597.9166666666666"
            ]
          },
          "metadata": {},
          "execution_count": 24
        }
      ]
    },
    {
      "cell_type": "code",
      "source": [
        "C = np.arange(1,5).reshape(2,2)\n",
        "print(C)"
      ],
      "metadata": {
        "colab": {
          "base_uri": "https://localhost:8080/"
        },
        "id": "IDTiD7yd8nqv",
        "outputId": "a878dfa3-6f19-4d40-bb78-ad19b56a5bac"
      },
      "execution_count": 25,
      "outputs": [
        {
          "output_type": "stream",
          "name": "stdout",
          "text": [
            "[[1 2]\n",
            " [3 4]]\n"
          ]
        }
      ]
    },
    {
      "cell_type": "code",
      "source": [
        "np.linalg.inv(C)"
      ],
      "metadata": {
        "colab": {
          "base_uri": "https://localhost:8080/"
        },
        "id": "NF4zVC5A8nuG",
        "outputId": "df862f59-de66-4767-ac3e-a97b4b80d45e"
      },
      "execution_count": 26,
      "outputs": [
        {
          "output_type": "execute_result",
          "data": {
            "text/plain": [
              "array([[-2. ,  1. ],\n",
              "       [ 1.5, -0.5]])"
            ]
          },
          "metadata": {},
          "execution_count": 26
        }
      ]
    },
    {
      "cell_type": "code",
      "source": [
        "C = 10*np.random.rand(24).reshape(6,4)\n",
        "print(C)"
      ],
      "metadata": {
        "colab": {
          "base_uri": "https://localhost:8080/"
        },
        "id": "2n6QT4Pn_Cxk",
        "outputId": "a7017e08-7a79-4e9f-9319-a1f2f15bf095"
      },
      "execution_count": 27,
      "outputs": [
        {
          "output_type": "stream",
          "name": "stdout",
          "text": [
            "[[5.21743441 5.50500222 1.21173876 7.09398197]\n",
            " [0.46492966 1.49917543 0.06927596 3.25313072]\n",
            " [4.79558325 1.23831298 7.74527895 0.30306742]\n",
            " [2.65643289 6.33658262 2.96227169 3.06767719]\n",
            " [3.10611097 1.05227827 8.89767243 3.80914338]\n",
            " [5.74950436 2.31569536 6.3573968  9.57306406]]\n"
          ]
        }
      ]
    },
    {
      "cell_type": "code",
      "source": [
        "print(np.argmax(C)) #random value"
      ],
      "metadata": {
        "colab": {
          "base_uri": "https://localhost:8080/"
        },
        "id": "QIMbHgrVALBA",
        "outputId": "f1c9d7ce-c549-4173-e503-d3124664ec9f"
      },
      "execution_count": 28,
      "outputs": [
        {
          "output_type": "stream",
          "name": "stdout",
          "text": [
            "23\n"
          ]
        }
      ]
    },
    {
      "cell_type": "code",
      "source": [
        "print(np.argmax(C,axis = 1)) #rows wise"
      ],
      "metadata": {
        "colab": {
          "base_uri": "https://localhost:8080/"
        },
        "id": "-hNiI1S_AM7Y",
        "outputId": "361119e2-1d3f-416c-b86c-427f69656707"
      },
      "execution_count": 29,
      "outputs": [
        {
          "output_type": "stream",
          "name": "stdout",
          "text": [
            "[3 3 2 1 2 3]\n"
          ]
        }
      ]
    },
    {
      "cell_type": "code",
      "source": [
        "print (np.argmax(C,axis=0)) #column wise"
      ],
      "metadata": {
        "colab": {
          "base_uri": "https://localhost:8080/"
        },
        "id": "jz4T_iLzAM_D",
        "outputId": "99f08ad0-749d-48f6-a945-b9c0e4921178"
      },
      "execution_count": 30,
      "outputs": [
        {
          "output_type": "stream",
          "name": "stdout",
          "text": [
            "[5 3 4 5]\n"
          ]
        }
      ]
    },
    {
      "cell_type": "code",
      "source": [
        "print (np.argmin(C))"
      ],
      "metadata": {
        "colab": {
          "base_uri": "https://localhost:8080/"
        },
        "id": "S2anqwYNANGG",
        "outputId": "6fe165a6-a541-4b94-8f6a-4d692d78134d"
      },
      "execution_count": 31,
      "outputs": [
        {
          "output_type": "stream",
          "name": "stdout",
          "text": [
            "6\n"
          ]
        }
      ]
    },
    {
      "cell_type": "code",
      "source": [
        "print(np.argmin(C,axis=0))"
      ],
      "metadata": {
        "colab": {
          "base_uri": "https://localhost:8080/"
        },
        "id": "pU7BTXvaANJf",
        "outputId": "5b9eda59-092b-4278-cb69-59b0bda74235"
      },
      "execution_count": 32,
      "outputs": [
        {
          "output_type": "stream",
          "name": "stdout",
          "text": [
            "[1 4 1 2]\n"
          ]
        }
      ]
    },
    {
      "cell_type": "code",
      "source": [
        "print(np.argmin(C,axis=1))"
      ],
      "metadata": {
        "colab": {
          "base_uri": "https://localhost:8080/"
        },
        "id": "QfqlNYgWEmiz",
        "outputId": "30bf98a4-bec9-4c35-93e4-1f187a148757"
      },
      "execution_count": 33,
      "outputs": [
        {
          "output_type": "stream",
          "name": "stdout",
          "text": [
            "[2 2 3 0 1 1]\n"
          ]
        }
      ]
    },
    {
      "cell_type": "markdown",
      "source": [
        "Searching"
      ],
      "metadata": {
        "id": "zISC-0rAFiUU"
      }
    },
    {
      "cell_type": "code",
      "source": [
        "a = np.array([34,56,7,17,88,91]) #output=[0,1,4]\n",
        "print(np.where(a%2 == 0)) #array([0,1,4],dtype=int64),)\n",
        " #used only for already stored list\n",
        "a = np.array([6,7,8,9,10])"
      ],
      "metadata": {
        "colab": {
          "base_uri": "https://localhost:8080/"
        },
        "id": "5usWHmAXEr7M",
        "outputId": "62744dc7-8c0c-45de-8304-a78faeb4a5d5"
      },
      "execution_count": 34,
      "outputs": [
        {
          "output_type": "stream",
          "name": "stdout",
          "text": [
            "(array([0, 1, 4]),)\n"
          ]
        }
      ]
    },
    {
      "cell_type": "code",
      "source": [
        "a = np.array([24,16,7,17,54,60])\n",
        "print(np.where(a%6==0))"
      ],
      "metadata": {
        "colab": {
          "base_uri": "https://localhost:8080/"
        },
        "id": "Zxixl5YBEr96",
        "outputId": "ee41f9a8-406b-44cb-a8e0-1ba7bab6f700"
      },
      "execution_count": 35,
      "outputs": [
        {
          "output_type": "stream",
          "name": "stdout",
          "text": [
            "(array([0, 4, 5]),)\n"
          ]
        }
      ]
    },
    {
      "cell_type": "code",
      "source": [
        "a=np.array([6,7,8,9,10])\n",
        "x=np.searchsorted(a,7)\n",
        "print(x)"
      ],
      "metadata": {
        "colab": {
          "base_uri": "https://localhost:8080/"
        },
        "id": "Q11lkmVaEsDs",
        "outputId": "abdf6c9c-6935-46aa-ee5e-bb46405ef3b6"
      },
      "execution_count": 36,
      "outputs": [
        {
          "output_type": "stream",
          "name": "stdout",
          "text": [
            "1\n"
          ]
        }
      ]
    },
    {
      "cell_type": "code",
      "source": [
        "a=np.array([1,8,5,10])\n",
        "x=np.searchsorted(a,5)\n",
        "print(x)"
      ],
      "metadata": {
        "colab": {
          "base_uri": "https://localhost:8080/"
        },
        "id": "otme17gPH94o",
        "outputId": "7813b8e7-1ffe-4a74-89d0-cb095e1f3bec"
      },
      "execution_count": 37,
      "outputs": [
        {
          "output_type": "stream",
          "name": "stdout",
          "text": [
            "1\n"
          ]
        }
      ]
    },
    {
      "cell_type": "code",
      "source": [
        "#sorting array\n",
        "import numpy as np\n",
        "arr = np.array(['banana','apple','guava'])\n",
        "print(np.sort(arr))"
      ],
      "metadata": {
        "colab": {
          "base_uri": "https://localhost:8080/"
        },
        "id": "XWHsZ80yIT22",
        "outputId": "c8fb1370-6ff3-40cf-8d1a-5637f6d1614b"
      },
      "execution_count": 38,
      "outputs": [
        {
          "output_type": "stream",
          "name": "stdout",
          "text": [
            "['apple' 'banana' 'guava']\n"
          ]
        }
      ]
    },
    {
      "cell_type": "code",
      "source": [
        "arr=np.array([True,False,True])\n",
        "print(np.sort(arr))"
      ],
      "metadata": {
        "colab": {
          "base_uri": "https://localhost:8080/"
        },
        "id": "4z2bgZQqJNTd",
        "outputId": "944800b0-66e9-488c-a600-c5bfc2ac8ecd"
      },
      "execution_count": null,
      "outputs": [
        {
          "output_type": "stream",
          "name": "stdout",
          "text": [
            "[False  True  True]\n"
          ]
        }
      ]
    },
    {
      "cell_type": "code",
      "source": [
        "#2d sorting happens within row\n",
        "arr = np.array([[3,2,4],[5,0,1]])\n",
        "print(np.sort(arr))"
      ],
      "metadata": {
        "colab": {
          "base_uri": "https://localhost:8080/"
        },
        "id": "XLCvwkQ0IT5t",
        "outputId": "538ec983-13cb-49e6-c2ea-b765c9f306fc"
      },
      "execution_count": 39,
      "outputs": [
        {
          "output_type": "stream",
          "name": "stdout",
          "text": [
            "[[2 3 4]\n",
            " [0 1 5]]\n"
          ]
        }
      ]
    },
    {
      "cell_type": "markdown",
      "source": [
        "Filtering"
      ],
      "metadata": {
        "id": "YMm3HXhBM2BJ"
      }
    },
    {
      "cell_type": "code",
      "source": [
        "arr = np.array([40,43,50,44,67,78]) #filtering may be an array/list\n",
        "flit=np.where(arr%2== 0)\n",
        "print(flit)"
      ],
      "metadata": {
        "colab": {
          "base_uri": "https://localhost:8080/"
        },
        "id": "p2IIGPVYIT9X",
        "outputId": "cdc3253e-44dc-44ed-c1e3-ac30f349b0c0"
      },
      "execution_count": 40,
      "outputs": [
        {
          "output_type": "stream",
          "name": "stdout",
          "text": [
            "(array([0, 2, 3, 5]),)\n"
          ]
        }
      ]
    },
    {
      "cell_type": "code",
      "source": [
        "arr[flit]"
      ],
      "metadata": {
        "colab": {
          "base_uri": "https://localhost:8080/"
        },
        "id": "jOfYfCe1MO8Y",
        "outputId": "fa2c5cc5-ec5e-40e6-af87-7ade25abddf3"
      },
      "execution_count": 41,
      "outputs": [
        {
          "output_type": "execute_result",
          "data": {
            "text/plain": [
              "array([40, 50, 44, 78])"
            ]
          },
          "metadata": {},
          "execution_count": 41
        }
      ]
    },
    {
      "cell_type": "markdown",
      "source": [
        "Iterating to 2arrays"
      ],
      "metadata": {
        "id": "ko65KOPyOmyo"
      }
    },
    {
      "cell_type": "code",
      "source": [
        "names = np.array([\"Susmi\",\"Lilly\",\"Minni\"])\n",
        "initials = np.array([\"U\",\"M\",\"D\"])\n",
        "for i,j in zip(initials,names):\n",
        "  print(i,\".\",j)"
      ],
      "metadata": {
        "colab": {
          "base_uri": "https://localhost:8080/"
        },
        "id": "337sMk9IMP1Y",
        "outputId": "620c3f8d-8b64-4d58-d7e1-a16606539499"
      },
      "execution_count": 42,
      "outputs": [
        {
          "output_type": "stream",
          "name": "stdout",
          "text": [
            "U . Susmi\n",
            "M . Lilly\n",
            "D . Minni\n"
          ]
        }
      ]
    },
    {
      "cell_type": "code",
      "source": [
        "a1=np.array([10,20,30,50,70])\n",
        "a2=np.array([22,44,77,99,66])\n",
        "n = np.divide(a1,a2)\n",
        "print(n)"
      ],
      "metadata": {
        "colab": {
          "base_uri": "https://localhost:8080/"
        },
        "id": "RjlMu954QYsu",
        "outputId": "a0811eef-524b-4444-9da6-aec9a1aba4af"
      },
      "execution_count": 43,
      "outputs": [
        {
          "output_type": "stream",
          "name": "stdout",
          "text": [
            "[0.45454545 0.45454545 0.38961039 0.50505051 1.06060606]\n"
          ]
        }
      ]
    },
    {
      "cell_type": "code",
      "source": [
        "a1=np.array([11,32,54,61,32])\n",
        "a2=np.array([43,57,68,98,43])\n",
        "n = np.mod(a1,a2)\n",
        "print(n)"
      ],
      "metadata": {
        "colab": {
          "base_uri": "https://localhost:8080/"
        },
        "id": "IML7Z3XCQYvm",
        "outputId": "69a0bb72-54e5-43bf-f33e-479f729c55dd"
      },
      "execution_count": 44,
      "outputs": [
        {
          "output_type": "stream",
          "name": "stdout",
          "text": [
            "[11 32 54 61 32]\n"
          ]
        }
      ]
    },
    {
      "cell_type": "code",
      "source": [
        "a1=np.array([47,92,67,32])\n",
        "a2=np.array([87,32,78,64])\n",
        "n=np.divmod(a1,a2)\n",
        "print(n)"
      ],
      "metadata": {
        "colab": {
          "base_uri": "https://localhost:8080/"
        },
        "id": "2eihLbwnQYy8",
        "outputId": "9ce8d55e-1af5-46fc-944d-a8bca0d2588e"
      },
      "execution_count": 45,
      "outputs": [
        {
          "output_type": "stream",
          "name": "stdout",
          "text": [
            "(array([0, 2, 0, 0]), array([47, 28, 67, 32]))\n"
          ]
        }
      ]
    },
    {
      "cell_type": "code",
      "source": [
        "a1=np.array([75,36,67,33])\n",
        "a2=np.array([34,67,98,21])\n",
        "n=np.multiply(a1,a2)\n",
        "print(n)"
      ],
      "metadata": {
        "colab": {
          "base_uri": "https://localhost:8080/"
        },
        "id": "iwS2-2JIR7fW",
        "outputId": "6c9567d8-6e06-4022-8581-fb884d3f8749"
      },
      "execution_count": 46,
      "outputs": [
        {
          "output_type": "stream",
          "name": "stdout",
          "text": [
            "[2550 2412 6566  693]\n"
          ]
        }
      ]
    },
    {
      "cell_type": "markdown",
      "source": [
        "Logarithms"
      ],
      "metadata": {
        "id": "2nw5Q_zQSVGT"
      }
    },
    {
      "cell_type": "code",
      "source": [
        "a1 = np.arange(1,10)\n",
        "print(a1)\n",
        "print(np.log2(a1)) #base2"
      ],
      "metadata": {
        "colab": {
          "base_uri": "https://localhost:8080/"
        },
        "id": "a4oECTJ0SWxO",
        "outputId": "4e061740-332a-4547-ad87-a784d5aee592"
      },
      "execution_count": 47,
      "outputs": [
        {
          "output_type": "stream",
          "name": "stdout",
          "text": [
            "[1 2 3 4 5 6 7 8 9]\n",
            "[0.         1.         1.5849625  2.         2.32192809 2.5849625\n",
            " 2.80735492 3.         3.169925  ]\n"
          ]
        }
      ]
    },
    {
      "cell_type": "code",
      "source": [
        "a = 3.2\n",
        "print(np.log(a)) #natural log e"
      ],
      "metadata": {
        "colab": {
          "base_uri": "https://localhost:8080/"
        },
        "id": "TOlK01RmSWzt",
        "outputId": "a0321aed-28cb-4d93-b6b3-8162f56060fd"
      },
      "execution_count": 48,
      "outputs": [
        {
          "output_type": "stream",
          "name": "stdout",
          "text": [
            "1.1631508098056809\n"
          ]
        }
      ]
    },
    {
      "cell_type": "code",
      "source": [
        "a = np.array([1,2,3,4])\n",
        "print(np.log(a)) #natural log e"
      ],
      "metadata": {
        "colab": {
          "base_uri": "https://localhost:8080/"
        },
        "id": "HMeiF4ojTt7L",
        "outputId": "9f2f3fb0-c51f-45fc-daa8-343416488189"
      },
      "execution_count": 49,
      "outputs": [
        {
          "output_type": "stream",
          "name": "stdout",
          "text": [
            "[0.         0.69314718 1.09861229 1.38629436]\n"
          ]
        }
      ]
    },
    {
      "cell_type": "code",
      "source": [
        "a = 1.2\n",
        "print(np.log2(a)) #log base 2"
      ],
      "metadata": {
        "colab": {
          "base_uri": "https://localhost:8080/"
        },
        "id": "tXkGJuaRSW2Q",
        "outputId": "c1ebda26-edc5-4132-aca6-9ea406737df7"
      },
      "execution_count": 50,
      "outputs": [
        {
          "output_type": "stream",
          "name": "stdout",
          "text": [
            "0.2630344058337938\n"
          ]
        }
      ]
    },
    {
      "cell_type": "code",
      "source": [
        "a = 1.2\n",
        "print(np.log10(a)) #log base 10"
      ],
      "metadata": {
        "colab": {
          "base_uri": "https://localhost:8080/"
        },
        "id": "h97eGO_ASW5k",
        "outputId": "9fb6c01d-631d-491d-804c-b5d69a9224ae"
      },
      "execution_count": 51,
      "outputs": [
        {
          "output_type": "stream",
          "name": "stdout",
          "text": [
            "0.07918124604762482\n"
          ]
        }
      ]
    },
    {
      "cell_type": "markdown",
      "source": [
        "Other mathematical fuctions"
      ],
      "metadata": {
        "id": "gxUz9-tIUv4A"
      }
    },
    {
      "cell_type": "code",
      "source": [
        "a2 = np.array([5,6,7,1])\n",
        "x = np.cumprod(a2)\n",
        "print(x)"
      ],
      "metadata": {
        "colab": {
          "base_uri": "https://localhost:8080/"
        },
        "id": "UlrAVFtmUzZR",
        "outputId": "1321e313-722d-4d00-97a3-7f54770e95ae"
      },
      "execution_count": 52,
      "outputs": [
        {
          "output_type": "stream",
          "name": "stdout",
          "text": [
            "[  5  30 210 210]\n"
          ]
        }
      ]
    },
    {
      "cell_type": "code",
      "source": [
        "a1 = np.array([23,34,3,2,])\n",
        "x = np.cumsum(a1)\n",
        "print(x)"
      ],
      "metadata": {
        "colab": {
          "base_uri": "https://localhost:8080/"
        },
        "id": "wU1ApnB6Uzcj",
        "outputId": "be8265ad-95f3-4f9e-a6cc-b7e5d972a0a1"
      },
      "execution_count": 53,
      "outputs": [
        {
          "output_type": "stream",
          "name": "stdout",
          "text": [
            "[23 57 60 62]\n"
          ]
        }
      ]
    },
    {
      "cell_type": "code",
      "source": [
        "a1 = np.array([12,24,35,11]) #e2-e1\n",
        "newarr = np.diff(a1)\n",
        "print(newarr)"
      ],
      "metadata": {
        "colab": {
          "base_uri": "https://localhost:8080/"
        },
        "id": "11sa5CLcVdux",
        "outputId": "64063f27-5353-4a13-dcef-cc48560a3a1e"
      },
      "execution_count": 54,
      "outputs": [
        {
          "output_type": "stream",
          "name": "stdout",
          "text": [
            "[ 12  11 -24]\n"
          ]
        }
      ]
    },
    {
      "cell_type": "code",
      "source": [
        "num1=455\n",
        "num2=665\n",
        "x = np.lcm(num1,num2)\n",
        "print(x)"
      ],
      "metadata": {
        "colab": {
          "base_uri": "https://localhost:8080/"
        },
        "id": "REuN_MQZVdyI",
        "outputId": "a6d429f8-3ba6-4ef9-a0f1-91510775b830"
      },
      "execution_count": 55,
      "outputs": [
        {
          "output_type": "stream",
          "name": "stdout",
          "text": [
            "8645\n"
          ]
        }
      ]
    },
    {
      "cell_type": "code",
      "source": [
        "num1=667\n",
        "num2=887\n",
        "x = np.gcd(num1,num2)\n",
        "print(x)"
      ],
      "metadata": {
        "colab": {
          "base_uri": "https://localhost:8080/"
        },
        "id": "vk1lfl8AWBXP",
        "outputId": "e4289c74-5932-4b99-8c51-bf7ca54c8151"
      },
      "execution_count": 56,
      "outputs": [
        {
          "output_type": "stream",
          "name": "stdout",
          "text": [
            "1\n"
          ]
        }
      ]
    },
    {
      "cell_type": "code",
      "source": [
        "a = np.array([12,15,16])\n",
        "gcd = np.gcd.reduce(a) #takes multiple inputs gives single output\n",
        "print(gcd)"
      ],
      "metadata": {
        "colab": {
          "base_uri": "https://localhost:8080/"
        },
        "id": "lW_PnxvlWnr0",
        "outputId": "1a69e56a-8910-4613-b36c-1cf17386f582"
      },
      "execution_count": 57,
      "outputs": [
        {
          "output_type": "stream",
          "name": "stdout",
          "text": [
            "1\n"
          ]
        }
      ]
    },
    {
      "cell_type": "code",
      "source": [
        "a = np.array([12,15,16])\n",
        "lc = np.gcd.reduce(a) #takes multiple inputs gives single output\n",
        "print(lc)"
      ],
      "metadata": {
        "colab": {
          "base_uri": "https://localhost:8080/"
        },
        "id": "W8QXaI3DWnvH",
        "outputId": "880e406b-36ce-4b99-f435-6907fe0fd656"
      },
      "execution_count": 58,
      "outputs": [
        {
          "output_type": "stream",
          "name": "stdout",
          "text": [
            "1\n"
          ]
        }
      ]
    },
    {
      "cell_type": "code",
      "source": [
        "a = np.array([12,15,16])\n",
        "hc = np.gcd.reduce(a) #takes multiple inputs gives single output\n",
        "print(hc)"
      ],
      "metadata": {
        "colab": {
          "base_uri": "https://localhost:8080/"
        },
        "id": "i_pSOJ7LYBFD",
        "outputId": "151d2d04-6af0-401b-a351-cb8c725c32b1"
      },
      "execution_count": 59,
      "outputs": [
        {
          "output_type": "stream",
          "name": "stdout",
          "text": [
            "1\n"
          ]
        }
      ]
    }
  ]
}